{
 "cells": [
  {
   "cell_type": "markdown",
   "metadata": {},
   "source": [
    "# AI-WORKFLOW CAPSTONE"
   ]
  },
  {
   "cell_type": "code",
   "execution_count": 3,
   "metadata": {},
   "outputs": [],
   "source": [
    "import os\n",
    "import sys\n",
    "import csv\n",
    "import requests\n",
    "from collections import Counter\n",
    "from datetime import date\n",
    "from ast import literal_eval\n",
    "import numpy as np\n",
    "import pandas as pd\n",
    "import matplotlib.pyplot as plt\n",
    "\n",
    "%matplotlib inline"
   ]
  },
  {
   "cell_type": "markdown",
   "metadata": {},
   "source": [
    "## STEP 1: Write units test for a logger"
   ]
  },
  {
   "cell_type": "code",
   "execution_count": 14,
   "metadata": {},
   "outputs": [],
   "source": [
    "os.chdir(\"./6-ai-production/ai-workflow-capstone/\")"
   ]
  },
  {
   "cell_type": "code",
   "execution_count": 13,
   "metadata": {},
   "outputs": [
    {
     "output_type": "stream",
     "name": "stdout",
     "text": "....\n----------------------------------------------------------------------\nRan 4 tests in 0.009s\n\nOK\n"
    }
   ],
   "source": [
    "!python ./unittests/LoggerTests.py"
   ]
  },
  {
   "cell_type": "markdown",
   "metadata": {},
   "source": [
    "## STEP 2: Add an API endpoint for logging"
   ]
  },
  {
   "cell_type": "code",
   "execution_count": 48,
   "metadata": {},
   "outputs": [
    {
     "output_type": "stream",
     "name": "stdout",
     "text": "....\n----------------------------------------------------------------------\nRan 4 tests in 13.728s\n\nOK\n"
    }
   ],
   "source": [
    "# The API is ready we can test it. We invite you to take a close look into the ApiTests.py script.\n",
    "!python ./unittests/ApiTests.py"
   ]
  },
  {
   "cell_type": "code",
   "execution_count": 50,
   "metadata": {},
   "outputs": [
    {
     "output_type": "stream",
     "name": "stdout",
     "text": "unique_id,timestamp,tag,time_window,eval_test,model_version,model_version_note,runtime\n791f35a4-5b7b-4a2e-ba05-8a2fc5c455b4,1604273706.248752,all,\"('2019-06-01', '2020-09-30')\",{'rmse': 0.5},0.1,test model,000:00:01\n6d7e518f-331c-4090-a926-2691920db987,1604273706.249005,all,\"('2019-06-01', '2020-09-30')\",{'rmse': 0.5},0.1,test model,000:00:01\n8b622d59-38be-4ec5-9077-4d9a8f7cf218,1604273710.670335,united_kingdom,\"('2017-11-29', '2019-05-27')\",{'rmse': 21089},0.1,supervised learing model for time-series,000:00:04\n4b872dc4-cfc6-4359-8449-7df00a4f6398,1604273713.480341,all,\"('2017-11-29', '2019-05-31')\",{'rmse': 41051},0.1,supervised learing model for time-series,000:00:02\n\n"
    }
   ],
   "source": [
    "r = requests.get('http://127.0.0.1:8080/logs/train-test.log')\n",
    "print(r.text)"
   ]
  },
  {
   "cell_type": "markdown",
   "metadata": {},
   "source": [
    "## STEP 3: Make sure all tests pass"
   ]
  },
  {
   "cell_type": "code",
   "execution_count": 49,
   "metadata": {},
   "outputs": [
    {
     "output_type": "stream",
     "name": "stdout",
     "text": "........... test flag on\n...... subseting data\n...... subseting countries\n... loading ts data from files\n... saving test version of model: models/test-united_kingdom-0_1.joblib\n... saving test version of model: models/test-all-0_1.joblib\n.... loading ts data from files\n.... loading ts data from files\n... loading ts data from files\n2019-10-08\n.\n----------------------------------------------------------------------\nRan 11 tests in 33.112s\n\nOK\n"
    }
   ],
   "source": [
    "!python run-tests.py"
   ]
  },
  {
   "cell_type": "markdown",
   "metadata": {},
   "source": [
    "## STEP 4: Retrain"
   ]
  },
  {
   "cell_type": "code",
   "execution_count": 52,
   "metadata": {},
   "outputs": [
    {
     "output_type": "stream",
     "name": "stdout",
     "text": "TRAINING MODELS\n... test flag on\n...... subseting data\n...... subseting countries\n... loading ts data from files\n... saving test version of model: models/test-united_kingdom-0_1.joblib\n... saving test version of model: models/test-all-0_1.joblib\nLOADING MODELS\n... loading ts data from files\n... models loaded:  eire,spain,germany,netherlands,france,all,portugal,united_kingdom,hong_kong,singapore,norway\nmodel training complete.\n"
    }
   ],
   "source": [
    "! python run-model-train.py"
   ]
  },
  {
   "cell_type": "code",
   "execution_count": null,
   "metadata": {},
   "outputs": [],
   "source": []
  }
 ],
 "metadata": {
  "kernelspec": {
   "display_name": "Python 3.8.5 64-bit ('playground': conda)",
   "language": "python",
   "name": "python38564bitplaygroundcondae65e55387d684914b1b6d6d2c3e0b09a"
  },
  "language_info": {
   "codemirror_mode": {
    "name": "ipython",
    "version": 3
   },
   "file_extension": ".py",
   "mimetype": "text/x-python",
   "name": "python",
   "nbconvert_exporter": "python",
   "pygments_lexer": "ipython3",
   "version": "3.8.5-final"
  }
 },
 "nbformat": 4,
 "nbformat_minor": 4
}